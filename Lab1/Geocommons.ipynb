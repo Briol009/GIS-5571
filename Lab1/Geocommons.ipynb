{
 "cells": [
  {
   "cell_type": "code",
   "execution_count": 144,
   "metadata": {},
   "outputs": [],
   "source": [
    "#importing resouces to open and plot\n",
    "import requests\n",
    "import os\n",
    "import zipfile\n",
    "import shutil\n",
    "import geopandas\n",
    "import json\n",
    "import matplotlib.pyplot as plt "
   ]
  },
  {
   "cell_type": "code",
   "execution_count": 145,
   "metadata": {
    "scrolled": false
   },
   "outputs": [
    {
     "name": "stderr",
     "output_type": "stream",
     "text": [
      "C:\\Users\\Track\\AppData\\Local\\ESRI\\conda\\envs\\arcgispro-py3-clone\\lib\\site-packages\\urllib3\\connectionpool.py:1056: InsecureRequestWarning: Unverified HTTPS request is being made to host 'gisdata.mn.gov'. Adding certificate verification is strongly advised. See: https://urllib3.readthedocs.io/en/1.26.x/advanced-usage.html#ssl-warnings\n",
      "  warnings.warn(\n"
     ]
    }
   ],
   "source": [
    "#Using data url from MNGeo\n",
    "dataurl = r\"https://gisdata.mn.gov/api/3/action/package_show?id=us-mn-state-metc-trans-transit-stops\"\n",
    "#dataurl stored in Mn_Geo and sends an HTTP GET request to 'dataurl' with verification disabled\n",
    "Mn_Geo_Get=requests.get(dataurl, verify=False) #get request funciton with url\n",
    "#lists everything in website\n",
    "#Mn_Geo_Get.json()"
   ]
  },
  {
   "cell_type": "code",
   "execution_count": 89,
   "metadata": {},
   "outputs": [],
   "source": [
    "#the location and name of Shapefile\n",
    "Mn_GeoName = r'C:\\Users\\Track\\OneDrive\\Documents\\ArcGIS\\Projects\\Lab_1\\\\Shapfile_Mn_Geo_data\\Mn_Geo_Trans_Stops'\n",
    "#Zip file downloaded and given varibale name\n",
    "Mn_Geodataurl = r'https://resources.gisdata.mn.gov/pub/gdrs/data/pub/us_mn_state_metc/trans_transit_stops/shp_trans_transit_stops.zip'\n",
    "#getting URL from the interent and response is used for download\n",
    "Mn_Georesult = requests.get(Mn_Geodataurl, stream=True)\n",
    "\n",
    "#creates folder\n",
    "Mn_Geofolder_new = r'C:\\Users\\Track\\OneDrive\\Documents\\ArcGIS\\Projects\\Lab_1\\\\Shapfile_Mn_Geo_data'\n",
    "#if folder exists ignore otherwise create folder\n",
    "if not os.path.exists(Mn_Geofolder_new):\n",
    "    os.mkdir(Mn_Geofolder_new)\n",
    "\n",
    "#with open function opens a file specified by the Mn_GeoName path in binary write mode\n",
    "#as file function assigns the opened file to the variable file\n",
    "#shutil.copyfileobj(mn_Georesult.raw, file) copies Mn_georesult.raw binary object to a new opened file named Mn_GeoName (really copies one binary data source to another)\n",
    "#with statement ensures file is closed\n",
    "#clicking downlaod on data\n",
    "with open (Mn_GeoName,'wb') as file:\n",
    "    shutil.copyfileobj(Mn_Georesult.raw, file) \n",
    "    \n",
    "#zipefile.ZipFile(Mn_Geoname, 'r'): Opens a zip file specified by the Mn_GeoName path in read-only mode (no modifying)\n",
    "#as zip_Mn_geo assigned the opened zip file to the varibale zip_Mn_Geo for reference\n",
    "#zip_Mn_Geo.extractall(Mn_Geofolder_new): uses the extractall() method of the zipefile.ZipFile object to extract all the contencts of (zip_Mn_Geo) into the directory specifided by Mn_Geofodler_new \n",
    "#above line indicates that all files and all directors contained within the zip file will be extracted into the specified folder\n",
    "#Summarized this code unzips all the contents of the zipe file specified by Mn_Geoname and placed them into the directoy specified by Mn_Geofolder_new.\n",
    "#add on desktop\n",
    "with zipfile.ZipFile (Mn_GeoName, 'r') as zip_Mn_Geo:\n",
    "    zip_Mn_Geo.extractall(Mn_Geofolder_new) \n",
    "    \n",
    "#concatenates the Mn_Geofolder_new variable (directory path) with string and this results in a complete file path path pionting to shapefile named transitstops.shp\n",
    "#Uses gpd.read_file() function from Geopandas to read the shapefile located at the file path\n",
    "#The data read from the shapefile is assigned to the varibale mn_data, which will hold the GeoDataFrame containing the spaital data\n",
    "#summary line of code reads a shapefile \"TransitStops.shp\" located in the directory specified by Mn_geofodler_new using GeoPandas and stores the spatial and attribtue data from that shapefile in the mn_data varibale as a GeoDataFrame. \n",
    "mn_data = gpd.read_file(Mn_Geofolder_new +'\\TransitStops.shp')"
   ]
  }
 ],
 "metadata": {
  "kernelspec": {
   "display_name": "ArcGISPro",
   "language": "Python",
   "name": "python3"
  },
  "language_info": {
   "file_extension": ".py",
   "name": "python",
   "version": "3"
  }
 },
 "nbformat": 4,
 "nbformat_minor": 2
}
