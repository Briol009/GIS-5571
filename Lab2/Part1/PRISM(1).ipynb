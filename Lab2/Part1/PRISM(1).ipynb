{
 "cells": [
  {
   "cell_type": "code",
   "execution_count": 1,
   "metadata": {},
   "outputs": [],
   "source": [
    "import requests\n",
    "import zipfile\n",
    "#The provided code sends an HTTP GET request to the 'dataurl' \n",
    "response = requests.get(r'https://prism.oregonstate.edu/fetchData.php?type=all_bil&kind=normals&spatial=4km&elem=ppt&temporal=annual')\n",
    "bilpath = r\"C:\\Users\\Track\\OneDrive\\Documents\\ArcGIS\\Projects\\Lab2_2\\30yearppt.zip\"\n",
    "if response.status_code ==200:\n",
    "    with open (bilpath, 'wb') as file:\n",
    "        file.write(response.content)\n",
    "        \n",
    "with zipfile.ZipFile(bilpath, 'r') as zip_ref:\n",
    "    zip_ref.extractall (r\"C:\\Users\\Track\\OneDrive\\Documents\\ArcGIS\\Projects\\Lab2_2\\BIL\")"
   ]
  },
  {
   "cell_type": "code",
   "execution_count": 2,
   "metadata": {},
   "outputs": [
    {
     "data": {
      "text/html": [
       "<div class='gpresult'><h2>Messages</h2><div id='messages' data-messages='[\"Start Time: Saturday, October 7, 2023 10:06:51 AM\",\"Successfully converted: C:\\\\Users\\\\Track\\\\OneDrive\\\\Documents\\\\ArcGIS\\\\Projects\\\\Lab2_2\\\\BIL\\\\PRISM_ppt_30yr_normal_4kmM4_01_bil.bil To C:\\\\Users\\\\Track\\\\OneDrive\\\\Documents\\\\ArcGIS\\\\Projects\\\\Lab2_2\\\\BIL1\\\\PRISM_ppt_30yr_normal_4kmM4_01_bil.tif\",\"Successfully converted: C:\\\\Users\\\\Track\\\\OneDrive\\\\Documents\\\\ArcGIS\\\\Projects\\\\Lab2_2\\\\BIL\\\\PRISM_ppt_30yr_normal_4kmM4_02_bil.bil To C:\\\\Users\\\\Track\\\\OneDrive\\\\Documents\\\\ArcGIS\\\\Projects\\\\Lab2_2\\\\BIL1\\\\PRISM_ppt_30yr_normal_4kmM4_02_bil.tif\",\"Successfully converted: C:\\\\Users\\\\Track\\\\OneDrive\\\\Documents\\\\ArcGIS\\\\Projects\\\\Lab2_2\\\\BIL\\\\PRISM_ppt_30yr_normal_4kmM4_03_bil.bil To C:\\\\Users\\\\Track\\\\OneDrive\\\\Documents\\\\ArcGIS\\\\Projects\\\\Lab2_2\\\\BIL1\\\\PRISM_ppt_30yr_normal_4kmM4_03_bil.tif\",\"Successfully converted: C:\\\\Users\\\\Track\\\\OneDrive\\\\Documents\\\\ArcGIS\\\\Projects\\\\Lab2_2\\\\BIL\\\\PRISM_ppt_30yr_normal_4kmM4_04_bil.bil To C:\\\\Users\\\\Track\\\\OneDrive\\\\Documents\\\\ArcGIS\\\\Projects\\\\Lab2_2\\\\BIL1\\\\PRISM_ppt_30yr_normal_4kmM4_04_bil.tif\",\"Successfully converted: C:\\\\Users\\\\Track\\\\OneDrive\\\\Documents\\\\ArcGIS\\\\Projects\\\\Lab2_2\\\\BIL\\\\PRISM_ppt_30yr_normal_4kmM4_05_bil.bil To C:\\\\Users\\\\Track\\\\OneDrive\\\\Documents\\\\ArcGIS\\\\Projects\\\\Lab2_2\\\\BIL1\\\\PRISM_ppt_30yr_normal_4kmM4_05_bil.tif\",\"Successfully converted: C:\\\\Users\\\\Track\\\\OneDrive\\\\Documents\\\\ArcGIS\\\\Projects\\\\Lab2_2\\\\BIL\\\\PRISM_ppt_30yr_normal_4kmM4_06_bil.bil To C:\\\\Users\\\\Track\\\\OneDrive\\\\Documents\\\\ArcGIS\\\\Projects\\\\Lab2_2\\\\BIL1\\\\PRISM_ppt_30yr_normal_4kmM4_06_bil.tif\",\"Successfully converted: C:\\\\Users\\\\Track\\\\OneDrive\\\\Documents\\\\ArcGIS\\\\Projects\\\\Lab2_2\\\\BIL\\\\PRISM_ppt_30yr_normal_4kmM4_07_bil.bil To C:\\\\Users\\\\Track\\\\OneDrive\\\\Documents\\\\ArcGIS\\\\Projects\\\\Lab2_2\\\\BIL1\\\\PRISM_ppt_30yr_normal_4kmM4_07_bil.tif\",\"Successfully converted: C:\\\\Users\\\\Track\\\\OneDrive\\\\Documents\\\\ArcGIS\\\\Projects\\\\Lab2_2\\\\BIL\\\\PRISM_ppt_30yr_normal_4kmM4_08_bil.bil To C:\\\\Users\\\\Track\\\\OneDrive\\\\Documents\\\\ArcGIS\\\\Projects\\\\Lab2_2\\\\BIL1\\\\PRISM_ppt_30yr_normal_4kmM4_08_bil.tif\",\"Successfully converted: C:\\\\Users\\\\Track\\\\OneDrive\\\\Documents\\\\ArcGIS\\\\Projects\\\\Lab2_2\\\\BIL\\\\PRISM_ppt_30yr_normal_4kmM4_09_bil.bil To C:\\\\Users\\\\Track\\\\OneDrive\\\\Documents\\\\ArcGIS\\\\Projects\\\\Lab2_2\\\\BIL1\\\\PRISM_ppt_30yr_normal_4kmM4_09_bil.tif\",\"Successfully converted: C:\\\\Users\\\\Track\\\\OneDrive\\\\Documents\\\\ArcGIS\\\\Projects\\\\Lab2_2\\\\BIL\\\\PRISM_ppt_30yr_normal_4kmM4_10_bil.bil To C:\\\\Users\\\\Track\\\\OneDrive\\\\Documents\\\\ArcGIS\\\\Projects\\\\Lab2_2\\\\BIL1\\\\PRISM_ppt_30yr_normal_4kmM4_10_bil.tif\",\"Successfully converted: C:\\\\Users\\\\Track\\\\OneDrive\\\\Documents\\\\ArcGIS\\\\Projects\\\\Lab2_2\\\\BIL\\\\PRISM_ppt_30yr_normal_4kmM4_11_bil.bil To C:\\\\Users\\\\Track\\\\OneDrive\\\\Documents\\\\ArcGIS\\\\Projects\\\\Lab2_2\\\\BIL1\\\\PRISM_ppt_30yr_normal_4kmM4_11_bil.tif\",\"Successfully converted: C:\\\\Users\\\\Track\\\\OneDrive\\\\Documents\\\\ArcGIS\\\\Projects\\\\Lab2_2\\\\BIL\\\\PRISM_ppt_30yr_normal_4kmM4_12_bil.bil To C:\\\\Users\\\\Track\\\\OneDrive\\\\Documents\\\\ArcGIS\\\\Projects\\\\Lab2_2\\\\BIL1\\\\PRISM_ppt_30yr_normal_4kmM4_12_bil.tif\",\"Successfully converted: C:\\\\Users\\\\Track\\\\OneDrive\\\\Documents\\\\ArcGIS\\\\Projects\\\\Lab2_2\\\\BIL\\\\PRISM_ppt_30yr_normal_4kmM4_annual_bil.bil To C:\\\\Users\\\\Track\\\\OneDrive\\\\Documents\\\\ArcGIS\\\\Projects\\\\Lab2_2\\\\BIL1\\\\PRISM_ppt_30yr_normal_4kmM4_annual_bil.tif\",\"Succeeded at Saturday, October 7, 2023 10:06:58 AM (Elapsed Time: 7.59 seconds)\"]' data-show='true'><div id = 'default' /></div></div>"
      ],
      "text/plain": [
       "<Result ''>"
      ]
     },
     "execution_count": 2,
     "metadata": {},
     "output_type": "execute_result"
    }
   ],
   "source": [
    "arcpy.conversion.RasterToOtherFormat(\n",
    "    Input_Rasters=r\"C:\\Users\\Track\\OneDrive\\Documents\\ArcGIS\\Projects\\Lab2_2\\BIL\\PRISM_ppt_30yr_normal_4kmM4_01_bil.bil;C:\\Users\\Track\\OneDrive\\Documents\\ArcGIS\\Projects\\Lab2_2\\BIL\\PRISM_ppt_30yr_normal_4kmM4_02_bil.bil;C:\\Users\\Track\\OneDrive\\Documents\\ArcGIS\\Projects\\Lab2_2\\BIL\\PRISM_ppt_30yr_normal_4kmM4_03_bil.bil;C:\\Users\\Track\\OneDrive\\Documents\\ArcGIS\\Projects\\Lab2_2\\BIL\\PRISM_ppt_30yr_normal_4kmM4_04_bil.bil;C:\\Users\\Track\\OneDrive\\Documents\\ArcGIS\\Projects\\Lab2_2\\BIL\\PRISM_ppt_30yr_normal_4kmM4_05_bil.bil;C:\\Users\\Track\\OneDrive\\Documents\\ArcGIS\\Projects\\Lab2_2\\BIL\\PRISM_ppt_30yr_normal_4kmM4_06_bil.bil;C:\\Users\\Track\\OneDrive\\Documents\\ArcGIS\\Projects\\Lab2_2\\BIL\\PRISM_ppt_30yr_normal_4kmM4_07_bil.bil;C:\\Users\\Track\\OneDrive\\Documents\\ArcGIS\\Projects\\Lab2_2\\BIL\\PRISM_ppt_30yr_normal_4kmM4_08_bil.bil;C:\\Users\\Track\\OneDrive\\Documents\\ArcGIS\\Projects\\Lab2_2\\BIL\\PRISM_ppt_30yr_normal_4kmM4_09_bil.bil;C:\\Users\\Track\\OneDrive\\Documents\\ArcGIS\\Projects\\Lab2_2\\BIL\\PRISM_ppt_30yr_normal_4kmM4_10_bil.bil;C:\\Users\\Track\\OneDrive\\Documents\\ArcGIS\\Projects\\Lab2_2\\BIL\\PRISM_ppt_30yr_normal_4kmM4_11_bil.bil;C:\\Users\\Track\\OneDrive\\Documents\\ArcGIS\\Projects\\Lab2_2\\BIL\\PRISM_ppt_30yr_normal_4kmM4_12_bil.bil;C:\\Users\\Track\\OneDrive\\Documents\\ArcGIS\\Projects\\Lab2_2\\BIL\\PRISM_ppt_30yr_normal_4kmM4_annual_bil.bil\",\n",
    "    Output_Workspace=r\"C:\\Users\\Track\\OneDrive\\Documents\\ArcGIS\\Projects\\Lab2_2\\BIL1\",\n",
    "    Raster_Format=\"TIFF\"\n",
    ")"
   ]
  },
  {
   "cell_type": "code",
   "execution_count": 3,
   "metadata": {},
   "outputs": [
    {
     "data": {
      "text/html": [
       "<div class='gpresult'><h2>Messages</h2><div id='messages' data-messages='[\"Start Time: Saturday, October 7, 2023 10:06:59 AM\",\"Succeeded at Saturday, October 7, 2023 10:07:08 AM (Elapsed Time: 9.60 seconds)\"]' data-show='true'><div id = 'default' /></div></div>"
      ],
      "text/plain": [
       "<Result 'C:\\\\Users\\\\Track\\\\OneDrive\\\\Documents\\\\ArcGIS\\\\Projects\\\\Lab2_2\\\\Lab2_2.gdb\\\\PRISMMOSIAC'>"
      ]
     },
     "execution_count": 3,
     "metadata": {},
     "output_type": "execute_result"
    }
   ],
   "source": [
    "arcpy.management.CreateMosaicDataset(\n",
    "    in_workspace=r\"C:\\Users\\Track\\OneDrive\\Documents\\ArcGIS\\Projects\\Lab2_2\\Lab2_2.gdb\",\n",
    "    in_mosaicdataset_name=\"PRISMMOSIAC\",\n",
    "    coordinate_system='GEOGCS[\"GCS_North_American_1983\",DATUM[\"D_North_American_1983\",SPHEROID[\"GRS_1980\",6378137.0,298.257222101]],PRIMEM[\"Greenwich\",0.0],UNIT[\"Degree\",0.0174532925199433]]',\n",
    "    num_bands=None,\n",
    "    pixel_type=\"\",\n",
    "    product_definition=\"NONE\",\n",
    "    product_band_definitions=None\n",
    ")"
   ]
  },
  {
   "cell_type": "code",
   "execution_count": 4,
   "metadata": {},
   "outputs": [
    {
     "data": {
      "text/html": [
       "<div class='gpresult'><h2>Messages</h2><div id='messages' data-messages='[\"Start Time: Saturday, October 7, 2023 10:07:10 AM\",\"2023-10-07T10:07:12.064: Loading raster datasets\",\"2023-10-07T10:07:12.118: Completed crawling 13 data source items. Added 13 mosaic dataset items.\",\"2023-10-07T10:07:12.120: Synchronizing crawled data source items\",\"2023-10-07T10:07:12.131: Synchronizing items associated with raster type instance &#39;Raster Dataset&#39; [ID: 1].\",\"2023-10-07T10:07:12.369: Completed synchronization: 13 items selected, 13 items synchronized.\",\"2023-10-07T10:07:12.470: Computing cell size levels\",\"2023-10-07T10:07:12.470: Computing unique cell size values\",\"2023-10-07T10:07:12.522: Computing maximum cell size values\",\"2023-10-07T10:07:12.525: Computing minimum cell size values\",\"2023-10-07T10:07:12.529: Updating visibility values of selected items\",\"2023-10-07T10:07:12.548: Computing maximum cell size for mosaic dataset\",\"2023-10-07T10:07:12.556: Completed computing cell size ranges.\",\"2023-10-07T10:07:12.600: Completed building boundary.\",\"Succeeded at Saturday, October 7, 2023 10:07:14 AM (Elapsed Time: 4.55 seconds)\"]' data-show='true'><div id = 'default' /></div></div>"
      ],
      "text/plain": [
       "<Result 'PRISMMOSIAC'>"
      ]
     },
     "execution_count": 4,
     "metadata": {},
     "output_type": "execute_result"
    }
   ],
   "source": [
    "arcpy.management.AddRastersToMosaicDataset(\n",
    "    in_mosaic_dataset=\"PRISMMOSIAC\",\n",
    "    raster_type=\"Raster Dataset\",\n",
    "    input_path=r\"C:\\Users\\Track\\OneDrive\\Documents\\ArcGIS\\Projects\\Lab2_2\\BIL1\",\n",
    "    update_cellsize_ranges=\"UPDATE_CELL_SIZES\",\n",
    "    update_boundary=\"UPDATE_BOUNDARY\",\n",
    "    update_overviews=\"NO_OVERVIEWS\",\n",
    "    maximum_pyramid_levels=None,\n",
    "    maximum_cell_size=0,\n",
    "    minimum_dimension=1500,\n",
    "    spatial_reference=None,\n",
    "    filter=\"\",\n",
    "    sub_folder=\"SUBFOLDERS\",\n",
    "    duplicate_items_action=\"ALLOW_DUPLICATES\",\n",
    "    build_pyramids=\"NO_PYRAMIDS\",\n",
    "    calculate_statistics=\"NO_STATISTICS\",\n",
    "    build_thumbnails=\"NO_THUMBNAILS\",\n",
    "    operation_description=\"\",\n",
    "    force_spatial_reference=\"NO_FORCE_SPATIAL_REFERENCE\",\n",
    "    estimate_statistics=\"NO_STATISTICS\",\n",
    "    aux_inputs=None,\n",
    "    enable_pixel_cache=\"NO_PIXEL_CACHE\",\n",
    "    cache_location=r\"C:\\Users\\Track\\AppData\\Local\\ESRI\\rasterproxies\\PRISMMOSIAC\"\n",
    ")"
   ]
  },
  {
   "cell_type": "code",
   "execution_count": 12,
   "metadata": {},
   "outputs": [
    {
     "data": {
      "text/html": [
       "<div class='gpresult'><h2>Messages</h2><div id='messages' data-messages='[\"Start Time: Saturday, October 7, 2023 10:16:26 AM\",\"Succeeded at Saturday, October 7, 2023 10:16:27 AM (Elapsed Time: 1.37 seconds)\"]' data-show='true'><div id = 'default' /></div></div>"
      ],
      "text/plain": [
       "<Result 'PRISMMOSIAC\\\\Footprint'>"
      ]
     },
     "execution_count": 12,
     "metadata": {},
     "output_type": "execute_result"
    }
   ],
   "source": [
    "arcpy.management.CalculateField(\n",
    "    in_table=r\"PRISMMOSIAC\\Footprint\",\n",
    "    field=\"Variable\",\n",
    "    expression=\"'Prism'\",\n",
    "    expression_type=\"PYTHON3\",\n",
    "    code_block=\"\",\n",
    "    field_type=\"TEXT\",\n",
    "    enforce_domains=\"NO_ENFORCE_DOMAINS\"\n",
    ")"
   ]
  },
  {
   "cell_type": "code",
   "execution_count": 13,
   "metadata": {},
   "outputs": [
    {
     "data": {
      "text/html": [
       "<div class='gpresult'><h2>Messages</h2><div id='messages' data-messages='[\"Start Time: Saturday, October 7, 2023 10:16:28 AM\",\"Adding TimeStamp to AMD_PRISMMOSIAC_CAT...\",\"Succeeded at Saturday, October 7, 2023 10:16:30 AM (Elapsed Time: 1.29 seconds)\"]' data-show='true'><div id = 'default' /></div></div>"
      ],
      "text/plain": [
       "<Result 'PRISMMOSIAC\\\\Footprint'>"
      ]
     },
     "execution_count": 13,
     "metadata": {},
     "output_type": "execute_result"
    }
   ],
   "source": [
    "arcpy.management.CalculateField(\n",
    "    in_table=r\"PRISMMOSIAC\\Footprint\",\n",
    "    field=\"TimeStamp\",\n",
    "    expression=\"\"\"var objectId = $feature.OBJECTID;\n",
    "\n",
    "var calculatedDate = null;\n",
    "\n",
    "if (objectId != 13) {\n",
    "    // Calculate the date for all values except when objectId is 13\n",
    "    calculatedDate = Date(1991, objectId - 1, 1);\n",
    "}\n",
    "\n",
    "calculatedDate\n",
    "\"\"\",\n",
    "    expression_type=\"ARCADE\",\n",
    "    code_block=\"\",\n",
    "    field_type=\"DATE\",\n",
    "    enforce_domains=\"NO_ENFORCE_DOMAINS\"\n",
    ")"
   ]
  },
  {
   "cell_type": "code",
   "execution_count": 14,
   "metadata": {},
   "outputs": [
    {
     "data": {
      "text/html": [
       "<div class='gpresult'><h2>Messages</h2><div id='messages' data-messages='[\"Start Time: Saturday, October 7, 2023 10:16:30 AM\",\"Succeeded at Saturday, October 7, 2023 10:16:36 AM (Elapsed Time: 6.20 seconds)\"]' data-show='true'><div id = 'default' /></div></div>"
      ],
      "text/plain": [
       "<Result 'PRISMMOSIAC'>"
      ]
     },
     "execution_count": 14,
     "metadata": {},
     "output_type": "execute_result"
    }
   ],
   "source": [
    "arcpy.md.BuildMultidimensionalInfo(\n",
    "    in_mosaic_dataset=\"PRISMMOSIAC\",\n",
    "    variable_field=\"Variable \",\n",
    "    dimension_fields=\"TimeStamp # #\",\n",
    "    variable_desc_units=None,\n",
    "    delete_multidimensional_info=\"NO_DELETE_MULTIDIMENSIONAL_INFO\"\n",
    ")"
   ]
  },
  {
   "cell_type": "code",
   "execution_count": 15,
   "metadata": {},
   "outputs": [
    {
     "data": {
      "text/html": [
       "<div class='gpresult'><h2>Messages</h2><div id='messages' data-messages='[\"Start Time: Saturday, October 7, 2023 10:16:36 AM\",\"Succeeded at Saturday, October 7, 2023 10:16:47 AM (Elapsed Time: 11.00 seconds)\"]' data-show='true'><div id = 'default' /></div></div>"
      ],
      "text/plain": [
       "<Result 'PRISMMOSIAC_MultidimLayer'>"
      ]
     },
     "execution_count": 15,
     "metadata": {},
     "output_type": "execute_result"
    }
   ],
   "source": [
    "arcpy.md.MakeMultidimensionalRasterLayer(\n",
    "    in_multidimensional_raster=\"PRISMMOSIAC\",\n",
    "    out_multidimensional_raster_layer=\"PRISMMOSIAC_MultidimLayer\",\n",
    "    variables=\"'Variable '\",\n",
    "    dimension_def=\"ALL\",\n",
    "    dimension_ranges=None,\n",
    "    dimension_values=None,\n",
    "    dimension=\"\",\n",
    "    start_of_first_iteration=\"\",\n",
    "    end_of_first_iteration=\"\",\n",
    "    iteration_step=None,\n",
    "    iteration_unit=\"\",\n",
    "    template='-125.020833333333 24.0624999997935 -66.4791666661985 49.9375000000005 GEOGCS[\"GCS_North_American_1983\",DATUM[\"D_North_American_1983\",SPHEROID[\"GRS_1980\",6378137.0,298.257222101]],PRIMEM[\"Greenwich\",0.0],UNIT[\"Degree\",0.0174532925199433]]',\n",
    "    dimensionless=\"DIMENSIONS\",\n",
    "    spatial_reference=None\n",
    ")"
   ]
  },
  {
   "cell_type": "code",
   "execution_count": 16,
   "metadata": {},
   "outputs": [
    {
     "data": {
      "text/html": [
       "<div class='gpresult'><h2>Messages</h2><div id='messages' data-messages='[\"Start Time: Saturday, October 7, 2023 10:59:31 AM\",\"WARNING 110290: This tool requires projected data to accurately measure distances.  The Input Multidimensional Raster Layer will be projected to the WGS 1984 World Equidistant Cylindrical projection (WKID 4087).\",\"WARNING 110442: The Input Multidimensional Raster Layer contains irregular or missing time intervals.\",\"WARNING 110013: The default Time Step Interval is 28 days.\",\"WARNING 110067: Your spatial reference is not compatible with CF Conventions.  You may experience difficulties using the resulting space-time cube with other NetCDF tools and software.\",[{\"element\":\"table\",\"data\":[[{\"data\":\"Input feature time extent\",\"prop\":{\"rowspan\":2}},\"1991-01-01 06:00:00\"],[{\"data\":\"to 1991-12-01 06:00:00\",\"prop\":{\"text-align\":\"right\"}}],[\"\",\"\"],[\"Number of time steps\",\"12\"],[\"Time step interval\",\"28 days\"],[\"Time step alignment\",\"End\"],[\"\",\"\"],[\"First time step temporal bias\",\"100.00%\"],[{\"data\":\"First time step interval\",\"prop\":{\"rowspan\":4}},\"after\"],[{\"data\":\"1990-12-04 06:00:00\",\"prop\":{\"text-align\":\"right\"}}],[{\"data\":\"to on or before\",\"prop\":{\"text-align\":\"right\"}}],[{\"data\":\"1991-01-01 06:00:00\",\"prop\":{\"text-align\":\"right\"}}],[\"\",\"\"],[\"Last time step temporal bias\",\"0.00%\"],[{\"data\":\"Last time step interval\",\"prop\":{\"rowspan\":4}},\"after\"],[{\"data\":\"1991-11-01 05:00:00\",\"prop\":{\"text-align\":\"right\"}}],[{\"data\":\"to on or before\",\"prop\":{\"text-align\":\"right\"}}],[{\"data\":\"1991-12-01 06:00:00\",\"prop\":{\"text-align\":\"right\"}}],[\"\",\"\"],[\"Coordinate System\",\"WGS 1984 World Equidistant Cylindrical\"],[\"Cube extent across space\",\"(coordinates in meters)\"],[\"Min X\",\"-13894065.6611\"],[\"Min Y\",\"2708362.4448\"],[\"Max X\",\"-7451448.3421\"],[\"Max Y\",\"5478284.6852\"]],\"elementProps\":{\"striped\":\"true\",\"noHeader\":true,\"title\":\"Space Time Cube Characteristics\",\"0\":{\"align\":\"left\",\"pad\":\"0px\",\"wrap\":true},\"1\":{\"align\":\"right\",\"pad\":\"0px\",\"wrap\":true}}}],[{\"element\":\"table\",\"data\":[[\"Locations\",\"481631\"],[\"Total observations\",\"5779572\"]],\"elementProps\":{\"striped\":\"true\",\"noHeader\":true,\"0\":{\"align\":\"left\",\"pad\":\"0px\",\"wrap\":true},\"1\":{\"align\":\"right\",\"pad\":\"0px\",\"wrap\":true}}}],[{\"element\":\"table\",\"data\":[[\"Trend direction\",\"Not Significant\"],[\"Trend statistic\",\"0.0000\"],[\"Trend p-value\",\"1.0000\"]],\"elementProps\":{\"striped\":\"true\",\"noHeader\":true,\"title\":\"Overall Data Trend - VARIABLE__NONE_ZEROS\",\"0\":{\"align\":\"left\",\"pad\":\"0px\",\"wrap\":true},\"1\":{\"align\":\"right\",\"pad\":\"0px\",\"wrap\":true}}}],\"Succeeded at Saturday, October 7, 2023 11:09:43 AM (Elapsed Time: 10 minutes 12 seconds)\"]' data-show='true'><div id = 'default' /></div></div>"
      ],
      "text/plain": [
       "<Result 'C:\\\\Users\\\\Track\\\\OneDrive\\\\Documents\\\\ArcGIS\\\\Projects\\\\Lab2_2\\\\TimeCube.nc'>"
      ]
     },
     "execution_count": 16,
     "metadata": {},
     "output_type": "execute_result"
    }
   ],
   "source": [
    "arcpy.stpm.CreateSpaceTimeCubeMDRasterLayer(\n",
    "    in_md_raster=\"PRISMMOSIAC_MultidimLayer\",\n",
    "    output_cube=r\"C:\\Users\\Track\\OneDrive\\Documents\\ArcGIS\\Projects\\Lab2_2\\TimeCube.nc\",\n",
    "    fill_empty_bins=\"ZEROS\"\n",
    ")"
   ]
  }
 ],
 "metadata": {
  "kernelspec": {
   "display_name": "ArcGISPro",
   "language": "Python",
   "name": "python3"
  },
  "language_info": {
   "file_extension": ".py",
   "name": "python",
   "version": "3"
  }
 },
 "nbformat": 4,
 "nbformat_minor": 2
}
