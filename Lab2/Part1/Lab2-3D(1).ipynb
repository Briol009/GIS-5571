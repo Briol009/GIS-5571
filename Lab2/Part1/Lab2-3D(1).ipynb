{
 "cells": [
  {
   "cell_type": "code",
   "execution_count": 14,
   "metadata": {},
   "outputs": [],
   "source": [
    "import arcpy\n",
    "\n",
    "# Define the path to your LAS file\n",
    "las_file_path = r'C:\\Users\\Track\\OneDrive\\Documents\\ArcGIS\\Projects\\Lab2_2\\dnr.las'\n",
    "\n",
    "# Create a new ArcGIS Pro project or open an existing one\n",
    "aprx = arcpy.mp.ArcGISProject(\"CURRENT\")\n",
    "\n",
    "# Add the LAS dataset directly to the D scene\n",
    "scene= aprx.listMaps()[0]\n"
   ]
  },
  {
   "cell_type": "code",
   "execution_count": 21,
   "metadata": {},
   "outputs": [
    {
     "data": {
      "text/plain": [
       "<arcpy._mp.Layer object at 0x000001F59A092A60>"
      ]
     },
     "execution_count": 21,
     "metadata": {},
     "output_type": "execute_result"
    }
   ],
   "source": [
    "import arcpy\n",
    "\n",
    "# Define the path to your LAS file\n",
    "las_file_path = r'C:\\Users\\Track\\OneDrive\\Documents\\ArcGIS\\Projects\\Lab2_2\\dnr.las'\n",
    "\n",
    "# Create a new ArcGIS Pro project or open an existing one\n",
    "aprx = arcpy.mp.ArcGISProject(\"CURRENT\")\n",
    "\n",
    "# Specify the 2D map where you want to add the LAS data\n",
    "map_name = \"Map\"  # Replace with the name of your 3D map\n",
    "\n",
    "# Get a reference to the 3D map\n",
    "map_obj = aprx.listMaps(map_name)[0]\n",
    "\n",
    "# Add the LAS dataset to the 3D map\n",
    "map_obj.addDataFromPath(las_file_path)"
   ]
  },
  {
   "cell_type": "code",
   "execution_count": 15,
   "metadata": {},
   "outputs": [
    {
     "data": {
      "text/plain": [
       "<arcpy._mp.Layer object at 0x0000021AC4B1E3D0>"
      ]
     },
     "execution_count": 15,
     "metadata": {},
     "output_type": "execute_result"
    }
   ],
   "source": [
    "import arcpy\n",
    "\n",
    "# Define the path to your LAS file\n",
    "las_file_path = r'C:\\Users\\Track\\OneDrive\\Documents\\ArcGIS\\Projects\\Lab2_2\\dnr.las'\n",
    "\n",
    "# Create a new ArcGIS Pro project or open an existing one\n",
    "aprx = arcpy.mp.ArcGISProject(\"CURRENT\")\n",
    "\n",
    "# Specify the 3D map where you want to add the LAS data\n",
    "map_name = \"3D DEM\"  # Replace with the name of your 3D map\n",
    "\n",
    "# Get a reference to the 3D map\n",
    "map_obj = aprx.listMaps(map_name)[0]\n",
    "\n",
    "# Add the LAS dataset to the 3D map\n",
    "map_obj.addDataFromPath(las_file_path)"
   ]
  },
  {
   "cell_type": "code",
   "execution_count": null,
   "metadata": {},
   "outputs": [],
   "source": []
  }
 ],
 "metadata": {
  "kernelspec": {
   "display_name": "ArcGISPro",
   "language": "Python",
   "name": "python3"
  },
  "language_info": {
   "file_extension": ".py",
   "name": "python",
   "version": "3"
  }
 },
 "nbformat": 4,
 "nbformat_minor": 2
}
