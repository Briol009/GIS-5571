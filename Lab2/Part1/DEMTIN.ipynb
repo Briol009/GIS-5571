{
 "cells": [
  {
   "cell_type": "code",
   "execution_count": 8,
   "metadata": {},
   "outputs": [
    {
     "name": "stderr",
     "output_type": "stream",
     "text": [
      "C:\\Users\\Track\\AppData\\Local\\ESRI\\conda\\envs\\arcgispro-py3-clone\\lib\\site-packages\\urllib3\\connectionpool.py:1056: InsecureRequestWarning: Unverified HTTPS request is being made to host 'resources.gisdata.mn.gov'. Adding certificate verification is strongly advised. See: https://urllib3.readthedocs.io/en/1.26.x/advanced-usage.html#ssl-warnings\n",
      "  warnings.warn(\n"
     ]
    }
   ],
   "source": [
    "import requests\n",
    "import os\n",
    "#The provided code sends an HTTP GET request\n",
    "dataurl = r'https://resources.gisdata.mn.gov/pub/data/elevation/lidar/examples/lidar_sample/las/4342-12-05.las'\n",
    "dnr_Get = requests.post(dataurl, verify=False, stream=True) #get request function with url\n",
    "\n",
    "\n",
    "##print(os.getcwd())\n",
    "folderlocation = r'C:\\Users\\Track\\OneDrive\\Documents\\ArcGIS\\Projects\\Lab2_2'\n",
    "if not os.path.exists(folderlocation):\n",
    "    os.mkdir(folderlocation)\n",
    "#saving the downloaded data to the local file system.\n",
    "with open(folderlocation+'\\\\dnr.las', 'wb') as file:\n",
    "    file.write(dnr_Get.content)"
   ]
  },
  {
   "cell_type": "code",
   "execution_count": 9,
   "metadata": {},
   "outputs": [
    {
     "data": {
      "text/html": [
       "<div class='gpresult'><h2>Messages</h2><div id='messages' data-messages='[\"Start Time: Thursday, October 5, 2023 10:00:12 PM\",\"Succeeded at Thursday, October 5, 2023 10:00:15 PM (Elapsed Time: 3.12 seconds)\"]' data-show='true'><div id = 'default' /></div></div>"
      ],
      "text/plain": [
       "<Result 'C:\\\\Users\\\\Track\\\\OneDrive\\\\Documents\\\\ArcGIS\\\\Projects\\\\Lab2_2\\\\dnr.lasd'>"
      ]
     },
     "execution_count": 9,
     "metadata": {},
     "output_type": "execute_result"
    }
   ],
   "source": [
    "arcpy.management.CreateLasDataset(\n",
    "    input=r\"C:\\Users\\Track\\OneDrive\\Documents\\ArcGIS\\Projects\\Lab2_2\\dnr.las\",\n",
    "    out_las_dataset=r\"C:\\Users\\Track\\OneDrive\\Documents\\ArcGIS\\Projects\\Lab2_2\\dnr.lasd\",\n",
    "    folder_recursion=\"NO_RECURSION\",\n",
    "    in_surface_constraints=None,\n",
    "    spatial_reference='PROJCS[\"datum_D_North_American_1983_HARN_UTM_Zone_15N\",GEOGCS[\"GCS_datum_D_North_American_1983_HARN\",DATUM[\"D_unknown\",SPHEROID[\"GRS_1980\",6378137.0,298.257222101]],PRIMEM[\"Greenwich\",0.0],UNIT[\"Degree\",0.0174532925199433]],PROJECTION[\"Transverse_Mercator\"],PARAMETER[\"false_easting\",500000.0],PARAMETER[\"false_northing\",0.0],PARAMETER[\"central_meridian\",-93.0],PARAMETER[\"scale_factor\",0.9996],PARAMETER[\"latitude_of_origin\",0.0],UNIT[\"Meter\",1.0]],VERTCS[\"NAVD88 - Geoid03 (Meters)\",VDATUM[\"unknown\"],PARAMETER[\"Vertical_Shift\",0.0],PARAMETER[\"Direction\",1.0],UNIT[\"Meter\",1.0]]',\n",
    "    compute_stats=\"COMPUTE_STATS\",\n",
    "    relative_paths=\"ABSOLUTE_PATHS\",\n",
    "    create_las_prj=\"NO_FILES\",\n",
    "    extent=\"DEFAULT\",\n",
    "    boundary=None,\n",
    "    add_only_contained_files=\"INTERSECTED_FILES\"\n",
    ")"
   ]
  },
  {
   "cell_type": "code",
   "execution_count": 10,
   "metadata": {},
   "outputs": [
    {
     "data": {
      "text/html": [
       "<div class='gpresult'><h2>Messages</h2><div id='messages' data-messages='[\"Start Time: Thursday, October 5, 2023 10:00:19 PM\",\"Succeeded at Thursday, October 5, 2023 10:00:21 PM (Elapsed Time: 1.71 seconds)\"]' data-show='true'><div id = 'default' /></div></div>"
      ],
      "text/plain": [
       "<Result 'C:\\\\Users\\\\Track\\\\OneDrive\\\\Documents\\\\ArcGIS\\\\Projects\\\\Lab2_2\\\\dnr_tin'>"
      ]
     },
     "execution_count": 10,
     "metadata": {},
     "output_type": "execute_result"
    }
   ],
   "source": [
    "import arcpy\n",
    "\n",
    "# Set the workspace to the location of your LAS dataset\n",
    "arcpy.env.workspace = r'C:\\Users\\Track\\OneDrive\\Documents\\ArcGIS\\Projects\\Lab2_2'\n",
    "\n",
    "# Define the input LAS dataset\n",
    "input_las_dataset = 'dnr.lasd'\n",
    "\n",
    "# Define the name for the output TIN dataset within the workspace\n",
    "output_tin_name = 'dnr_tin'\n",
    "\n",
    "# Convert LAS dataset to TIN\n",
    "arcpy.ddd.LasDatasetToTin(input_las_dataset, output_tin_name, 'WINDOW_SIZE', 'MIN', 15, 5000000, 1, 'CLIP')\n"
   ]
  },
  {
   "cell_type": "code",
   "execution_count": 11,
   "metadata": {},
   "outputs": [
    {
     "data": {
      "text/html": [
       "<div class='gpresult'><h2>Messages</h2><div id='messages' data-messages='[\"Start Time: Thursday, October 5, 2023 10:00:26 PM\",\"Succeeded at Thursday, October 5, 2023 10:00:35 PM (Elapsed Time: 9.13 seconds)\"]' data-show='true'><div id = 'default' /></div></div>"
      ],
      "text/plain": [
       "<Result 'C:\\\\Users\\\\Track\\\\OneDrive\\\\Documents\\\\ArcGIS\\\\Projects\\\\Lab2_2\\\\dnr_dem'>"
      ]
     },
     "execution_count": 11,
     "metadata": {},
     "output_type": "execute_result"
    }
   ],
   "source": [
    "import arcpy\n",
    "\n",
    "# Set the workspace to the location of your LAS dataset\n",
    "arcpy.env.workspace = r'C:\\Users\\Track\\OneDrive\\Documents\\ArcGIS\\Projects\\Lab2_2'\n",
    "\n",
    "# Define the input LAS dataset\n",
    "input_las_dataset = 'dnr.lasd'\n",
    "\n",
    "# Define the name for the output DEM raster dataset within the workspace\n",
    "output_dem_name = 'dnr_dem'\n",
    "\n",
    "# Convert LAS dataset to DEM\n",
    "arcpy.conversion.LasDatasetToRaster(input_las_dataset, output_dem_name, 'ELEVATION', 'BINNING AVERAGE LINEAR', 'FLOAT', 'CELLSIZE', 10, 1)"
   ]
  },
  {
   "cell_type": "code",
   "execution_count": 12,
   "metadata": {
    "scrolled": false
   },
   "outputs": [
    {
     "data": {
      "text/plain": [
       "'C:\\\\Users\\\\Track\\\\OneDrive\\\\Documents\\\\ArcGIS\\\\Projects\\\\Lab2_2\\\\TIN.pdf'"
      ]
     },
     "execution_count": 12,
     "metadata": {},
     "output_type": "execute_result"
    }
   ],
   "source": [
    "proj_path = r\"C:\\Users\\Track\\OneDrive\\Documents\\ArcGIS\\Projects\\Lab2_2\\Lab2_2.aprx\"\n",
    "work_dirr = r\"C:\\Users\\Track\\OneDrive\\Documents\\ArcGIS\\Projects\\Lab2_2\\TIN.pdf\"\n",
    "\n",
    "# TIN\n",
    "aprx = arcpy.mp.ArcGISProject(proj_path)\n",
    "tin_lyt = aprx.listLayouts()[1]\n",
    "tin_lyt.exportToPDF(work_dirr)"
   ]
  },
  {
   "cell_type": "code",
   "execution_count": 13,
   "metadata": {},
   "outputs": [
    {
     "data": {
      "text/plain": [
       "'C:\\\\Users\\\\Track\\\\OneDrive\\\\Documents\\\\ArcGIS\\\\Projects\\\\Lab2_2\\\\DEM.pdf'"
      ]
     },
     "execution_count": 13,
     "metadata": {},
     "output_type": "execute_result"
    }
   ],
   "source": [
    "# DEM\n",
    "work_dir = r\"C:\\Users\\Track\\OneDrive\\Documents\\ArcGIS\\Projects\\Lab2_2\\DEM.pdf\"\n",
    "aprx = arcpy.mp.ArcGISProject(proj_path)\n",
    "dem_lyt = aprx.listLayouts()[0]\n",
    "dem_lyt.exportToPDF(work_dir)"
   ]
  },
  {
   "cell_type": "code",
   "execution_count": null,
   "metadata": {},
   "outputs": [],
   "source": []
  },
  {
   "cell_type": "code",
   "execution_count": null,
   "metadata": {},
   "outputs": [],
   "source": []
  }
 ],
 "metadata": {
  "kernelspec": {
   "display_name": "ArcGISPro",
   "language": "Python",
   "name": "python3"
  },
  "language_info": {
   "file_extension": ".py",
   "name": "python",
   "version": "3"
  }
 },
 "nbformat": 4,
 "nbformat_minor": 2
}
